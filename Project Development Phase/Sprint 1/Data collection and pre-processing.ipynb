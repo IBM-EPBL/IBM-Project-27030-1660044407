{
 "cells": [
  {
   "cell_type": "markdown",
   "id": "cb9b0d77",
   "metadata": {},
   "source": [
    "# Sprint 1 "
   ]
  },
  {
   "cell_type": "markdown",
   "id": "f1a993c6",
   "metadata": {},
   "source": [
    "Team ID - PNT2022TMID18636"
   ]
  },
  {
   "cell_type": "markdown",
   "id": "c62525cb",
   "metadata": {},
   "source": [
    "# Importing the required libraries"
   ]
  },
  {
   "cell_type": "code",
   "execution_count": 5,
   "id": "a875e559",
   "metadata": {},
   "outputs": [
    {
     "ename": "ModuleNotFoundError",
     "evalue": "No module named 'numpy'",
     "output_type": "error",
     "traceback": [
      "\u001b[1;31m---------------------------------------------------------------------------\u001b[0m",
      "\u001b[1;31mModuleNotFoundError\u001b[0m                       Traceback (most recent call last)",
      "Cell \u001b[1;32mIn [5], line 1\u001b[0m\n\u001b[1;32m----> 1\u001b[0m \u001b[39mimport\u001b[39;00m \u001b[39mnumpy\u001b[39;00m \u001b[39mas\u001b[39;00m \u001b[39mnp\u001b[39;00m\n\u001b[0;32m      2\u001b[0m \u001b[39mimport\u001b[39;00m \u001b[39mtensorflow\u001b[39;00m \u001b[39m#open source used for both ML and DL for computation\u001b[39;00m\n\u001b[0;32m      3\u001b[0m \u001b[39mfrom\u001b[39;00m \u001b[39mtensorflow\u001b[39;00m\u001b[39m.\u001b[39;00m\u001b[39mkeras\u001b[39;00m\u001b[39m.\u001b[39;00m\u001b[39mdatasets\u001b[39;00m \u001b[39mimport\u001b[39;00m mnist \u001b[39m#mnist dataset\u001b[39;00m\n",
      "\u001b[1;31mModuleNotFoundError\u001b[0m: No module named 'numpy'"
     ]
    }
   ],
   "source": [
    "import numpy as np\n",
    "import tensorflow #open source used for both ML and DL for computation\n",
    "from tensorflow.keras.datasets import mnist #mnist dataset\n",
    "from tensorflow.keras.models import Sequential #it is a plain stack of layers\n",
    "from tensorflow.keras import layers #A Layer consists of a tensor- in tensor-out computat ion funct ion\n",
    "from tensorflow.keras.layers import Dense, Flatten #Dense-Dense Layer is the regular deeply connected r\n",
    "#faltten -used fot flattening the input or change the dimension\n",
    "from tensorflow.keras.layers import Conv2D #onvoLutiona l Layer\n",
    "from keras.optimizers import Adam #opt imizer\n",
    "from keras. utils import np_utils #used for one-hot encoding\n",
    "import matplotlib.pyplot as plt   #used for data visualization"
   ]
  },
  {
   "cell_type": "markdown",
   "id": "bff1e551",
   "metadata": {},
   "source": [
    "# Load data"
   ]
  },
  {
   "cell_type": "code",
   "execution_count": 2,
   "id": "210ec263",
   "metadata": {},
   "outputs": [
    {
     "ename": "NameError",
     "evalue": "name 'mnist' is not defined",
     "output_type": "error",
     "traceback": [
      "\u001b[1;31m---------------------------------------------------------------------------\u001b[0m",
      "\u001b[1;31mNameError\u001b[0m                                 Traceback (most recent call last)",
      "Cell \u001b[1;32mIn [2], line 1\u001b[0m\n\u001b[1;32m----> 1\u001b[0m (x_train, y_train), (x_test, y_test)\u001b[39m=\u001b[39mmnist\u001b[39m.\u001b[39mload_data () \u001b[39m#splitting the mnist data into train and test\u001b[39;00m\n",
      "\u001b[1;31mNameError\u001b[0m: name 'mnist' is not defined"
     ]
    }
   ],
   "source": [
    "(x_train, y_train), (x_test, y_test)=mnist.load_data () #splitting the mnist data into train and test"
   ]
  },
  {
   "cell_type": "code",
   "execution_count": 1,
   "id": "43acb466",
   "metadata": {},
   "outputs": [
    {
     "ename": "NameError",
     "evalue": "name 'x_train' is not defined",
     "output_type": "error",
     "traceback": [
      "\u001b[1;31m---------------------------------------------------------------------------\u001b[0m",
      "\u001b[1;31mNameError\u001b[0m                                 Traceback (most recent call last)",
      "Cell \u001b[1;32mIn [1], line 1\u001b[0m\n\u001b[1;32m----> 1\u001b[0m \u001b[39mprint\u001b[39m (x_train\u001b[39m.\u001b[39mshape)  \u001b[39m#shape is used for give the dimens ion values #60000-rows 28x28-pixels\u001b[39;00m\n\u001b[0;32m      2\u001b[0m \u001b[39mprint\u001b[39m (x_test\u001b[39m.\u001b[39mshape)\n",
      "\u001b[1;31mNameError\u001b[0m: name 'x_train' is not defined"
     ]
    }
   ],
   "source": [
    "print (x_train.shape)  #shape is used for give the dimens ion values #60000-rows 28x28-pixels\n",
    "print (x_test.shape)"
   ]
  },
  {
   "cell_type": "code",
   "execution_count": 3,
   "id": "d57d5fcf",
   "metadata": {},
   "outputs": [
    {
     "ename": "NameError",
     "evalue": "name 'x_train' is not defined",
     "output_type": "error",
     "traceback": [
      "\u001b[1;31m---------------------------------------------------------------------------\u001b[0m",
      "\u001b[1;31mNameError\u001b[0m                                 Traceback (most recent call last)",
      "Cell \u001b[1;32mIn [3], line 1\u001b[0m\n\u001b[1;32m----> 1\u001b[0m x_train[\u001b[39m0\u001b[39m]\n",
      "\u001b[1;31mNameError\u001b[0m: name 'x_train' is not defined"
     ]
    }
   ],
   "source": [
    "x_train[0]"
   ]
  },
  {
   "cell_type": "code",
   "execution_count": 5,
   "id": "d215316f",
   "metadata": {},
   "outputs": [
    {
     "data": {
      "text/plain": [
       "<matplotlib.image.AxesImage at 0x19f743b9540>"
      ]
     },
     "execution_count": 5,
     "metadata": {},
     "output_type": "execute_result"
    },
    {
     "data": {
      "image/png": "[encoded data removed]",
      "text/plain": [
       "<Figure size 640x480 with 1 Axes>"
      ]
     },
     "metadata": {},
     "output_type": "display_data"
    }
   ],
   "source": [
    "plt.imshow(x_train[6000])     #ploting the index=image"
   ]
  },
  {
   "cell_type": "code",
   "execution_count": 8,
   "id": "6ba125be",
   "metadata": {},
   "outputs": [
    {
     "data": {
      "text/plain": [
       "0"
      ]
     },
     "execution_count": 8,
     "metadata": {},
     "output_type": "execute_result"
    }
   ],
   "source": [
    "np.argmax(y_train[6000])"
   ]
  },
  {
   "cell_type": "markdown",
   "id": "d7402576",
   "metadata": {},
   "source": [
    "# Reshaping Dataset"
   ]
  },
  {
   "cell_type": "code",
   "execution_count": 9,
   "id": "fccf0fa6",
   "metadata": {},
   "outputs": [],
   "source": [
    "#Reshaping to format which CNN expects (batch, height, width, channels)\n",
    "x_train=x_train.reshape (60000, 28, 28, 1).astype('float32')\n",
    "x_test=x_test.reshape (10000, 28, 28, 1).astype ('float32')"
   ]
  },
  {
   "cell_type": "markdown",
   "id": "4ce45662",
   "metadata": {},
   "source": [
    "# Applying One Hot Encoding"
   ]
  },
  {
   "cell_type": "code",
   "execution_count": 10,
   "id": "5004cb43",
   "metadata": {},
   "outputs": [],
   "source": [
    "number_of_classes = 10  #storing the no of classes in a variable"
   ]
  },
  {
   "cell_type": "code",
   "execution_count": 11,
   "id": "ed95b6f2",
   "metadata": {},
   "outputs": [],
   "source": [
    "y_train = np_utils.to_categorical (y_train, number_of_classes) #converts the output in binary format\n",
    "y_test = np_utils.to_categorical (y_test, number_of_classes)"
   ]
  },
  {
   "cell_type": "code",
   "execution_count": null,
   "id": "014d6fa0",
   "metadata": {},
   "outputs": [],
   "source": []
  }
 ],
 "metadata": {
  "kernelspec": {
   "display_name": "Python 3.9.6 64-bit",
   "language": "python",
   "name": "python3"
  },
  "language_info": {
   "codemirror_mode": {
    "name": "ipython",
    "version": 3
   },
   "file_extension": ".py",
   "mimetype": "text/x-python",
   "name": "python",
   "nbconvert_exporter": "python",
   "pygments_lexer": "ipython3",
   "version": "3.9.6"
  },
  "vscode": {
   "interpreter": {
    "hash": "81794d4967e6c3204c66dcd87b604927b115b27c00565d3d43f05ba2f3a2cb0d"
   }
  }
 },
 "nbformat": 4,
 "nbformat_minor": 5
}
